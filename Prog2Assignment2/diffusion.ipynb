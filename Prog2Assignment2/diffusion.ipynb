{
 "cells": [
  {
   "cell_type": "code",
   "execution_count": 3,
   "metadata": {},
   "outputs": [],
   "source": [
    "import numpy as np\n"
   ]
  },
  {
   "cell_type": "code",
   "execution_count": 41,
   "metadata": {},
   "outputs": [
    {
     "name": "stdout",
     "output_type": "stream",
     "text": [
      "  0.00  0.00  0.00  0.00  0.00  0.00  0.00  0.00  0.00  0.00  0.00  0.00  0.00  0.00  0.00\n",
      "  0.00  0.00  0.00  0.00  0.00  0.00  0.00  0.00  0.00  0.00  0.00  0.00  0.00  0.00  0.00\n",
      "  0.00  0.00  0.00  0.00  0.00  0.00  0.00  0.00  0.00  0.00  0.00  0.00  0.00  0.00  0.00\n",
      "  0.00  0.00  0.00  0.00  0.00  0.00  0.00  0.00  0.00  0.00  0.00  0.00  0.00  0.00  0.00\n",
      "  0.00  0.00  0.00  0.00  0.00  0.00  0.00  0.00  0.00  0.00  0.00  0.00  0.00  0.00  0.00\n",
      "  0.00  0.00  0.00  0.00  0.00  0.00  0.00  0.00  0.00  0.00  0.00  0.00  0.00  0.00  0.00\n",
      "  0.00  0.00  0.00  0.00  0.00  0.00  0.00  0.00  0.00  0.00  0.00  0.00  0.00  0.00  0.00\n",
      "  0.00  0.00  0.00  0.00  0.00  0.00  0.00  0.00  0.00  0.00  0.00  0.00  0.00  0.00  0.00\n",
      "  0.00  0.00  0.00  0.00  0.00  0.00  0.00  0.00  0.00  0.00  0.00  0.00  0.00  0.00  0.00\n",
      "  0.00  0.00  0.00  0.00  0.00  0.00  0.00  0.00  0.00  0.00  0.00  0.00  0.00  0.00  0.00\n",
      "  0.00  0.00  0.00  0.00  0.00  0.00  0.00  0.00  0.00  0.00  0.00  0.00  0.00  0.00  0.00\n",
      "[1.0, 1.0, 1.0, 1.0, 1.0, 1.0, 1.0, 1.0, 1.0, 1.0, 1.0]\n",
      "[1.0, 1.0, 1.0, 1.0, 1.0, 1.0, 1.0, 1.0, 1.0, 1.0, 1.0]\n",
      "[0.0, 0.0, 0.0, 0.0, 0.0, 0.0, 0.0, 0.0, 0.0, 0.0, 0.0, 0.0, 0.0, 0.0, 0.0]\n",
      "[0.0, 0.0, 0.0, 0.0, 0.0, 0.0, 0.0, 0.0, 0.0, 0.0, 0.0, 0.0, 0.0, 0.0, 0.0]\n",
      "(11, 15)\n",
      "<class 'float'>\n",
      "\n",
      "  0.00  0.00  0.00  0.00  0.00  0.00  0.00  0.00  0.00  0.00  0.00  0.00  0.00  0.00  0.00\n",
      "  0.00  0.00  0.00  0.00  0.00  0.00  0.00  0.00  0.00  0.00  0.00  0.00  0.00  0.00  0.00\n",
      "  0.00  0.00  0.00  0.00  0.00  0.00  0.00  0.00  0.00  0.00  0.00  0.00  0.00  0.00  0.00\n",
      "  0.00  0.00  0.00  0.00  0.00  0.00  0.00  0.00  0.00  0.00  0.00  0.00  0.00  0.00  0.00\n",
      "  0.00  0.00  0.00  0.00  0.00  1.00  1.00  1.00  1.00  1.00  0.00  0.00  0.00  0.00  0.00\n",
      "  0.00  0.00  0.00  0.00  0.00  1.00  1.00  1.00  1.00  1.00  0.00  0.00  0.00  0.00  0.00\n",
      "  0.00  0.00  0.00  0.00  0.00  1.00  1.00  1.00  1.00  1.00  0.00  0.00  0.00  0.00  0.00\n",
      "  0.00  0.00  0.00  0.00  0.00  0.00  0.00  0.00  0.00  0.00  0.00  0.00  0.00  0.00  0.00\n",
      "  0.00  0.00  0.00  0.00  0.00  0.00  0.00  0.00  0.00  0.00  0.00  0.00  0.00  0.00  0.00\n",
      "  0.00  0.00  0.00  0.00  0.00  0.00  0.00  0.00  0.00  0.00  0.00  0.00  0.00  0.00  0.00\n",
      "  0.00  0.00  0.00  0.00  0.00  0.00  0.00  0.00  0.00  0.00  0.00  0.00  0.00  0.00  0.00\n"
     ]
    }
   ],
   "source": [
    "class Diffusion:\n",
    "\n",
    "    def __init__(self, rows = 10, cols = 10, bc_settings = [1,1,1,1], left_bc = None, right_bc = None, top_bc = None, bottom_bc = None):\n",
    "        self.rows  = rows\n",
    "        self.cols = cols\n",
    "        self.bc_settings = list(map(int,bc_settings))\n",
    "\n",
    "        if left_bc is None:\n",
    "            self.left_bc = list(map(float,rows*[0]))\n",
    "        else:\n",
    "            self.left_bc = list(map(float,left_bc))\n",
    "\n",
    "        if right_bc is None:\n",
    "            self.right_bc = list(map(float,rows*[0]))\n",
    "        else:\n",
    "            self.right_bc = list(map(float,right_bc))\n",
    "\n",
    "        if top_bc is None:\n",
    "            self.top_bc = list(map(float,cols*[0]))\n",
    "        else:\n",
    "            self.top_bc = list(map(float,top_bc))\n",
    "\n",
    "        if bottom_bc is None:\n",
    "            self.bottom_bc = list(map(float,cols*[0]))\n",
    "        else:\n",
    "            self.bottom_bc = list(map(float,bottom_bc))\n",
    "\n",
    "        self.space = [[0.0 for i in range(self.cols)] for j in range(self.rows)]\n",
    "\n",
    "    def set_cell(self, row_range, column_range, state):\n",
    "        # 'insert' a cell into space at a size and position dependent on the row_range and column_range\n",
    "        for row in range(row_range[0],row_range[1]+1):\n",
    "            for col in range(column_range[0],column_range[1]+1):\n",
    "                self.space[row][col] = float(state)\n",
    "\n",
    "    def print_space(self):\n",
    "        for i in range(self.rows):\n",
    "            for j in range(self.cols):\n",
    "                print(f'{self.space[i][j]:6.2f}',end='')\n",
    "            print()\n",
    "\n",
    "    def next_step(self, n_steps):\n",
    "        pass\n",
    "\n",
    "    \n",
    "\n",
    "space1 = Diffusion(11,15,[1, 1, 1, 1], 11*[1], 11*[1], 15*[0], 15*[0])\n",
    "# space1 = Diffusion(11,15,[1, 1, 1, 1])\n",
    "space1.print_space()\n",
    "print(space1.left_bc)\n",
    "print(space1.right_bc)\n",
    "print(space1.top_bc)\n",
    "print(space1.bottom_bc)\n",
    "print(np.shape(space1.space))\n",
    "\n",
    "print(type(space1.left_bc[1]))\n",
    "print()\n",
    "space1.set_cell([4,6],[5,9],1)\n",
    "space1.print_space()"
   ]
  },
  {
   "cell_type": "code",
   "execution_count": 1,
   "metadata": {},
   "outputs": [
    {
     "name": "stdout",
     "output_type": "stream",
     "text": [
      "[[0, 0, 0, 0, 0, 0, 0, 0, 0, 0, 0, 0, 0, 0, 0], [0, 0, 0, 0, 0, 0, 0, 0, 0, 0, 0, 0, 0, 0, 0], [0, 0, 0, 0, 0, 0, 0, 0, 0, 0, 0, 0, 0, 0, 0], [0, 0, 0, 0, 0, 0, 0, 0, 0, 0, 0, 0, 0, 0, 0], [0, 0, 0, 0, 0, 0, 0, 0, 0, 0, 0, 0, 0, 0, 0], [0, 0, 0, 0, 0, 0, 0, 0, 0, 0, 0, 0, 0, 0, 0], [0, 0, 0, 0, 0, 0, 0, 0, 0, 0, 0, 0, 0, 0, 0], [0, 0, 0, 0, 0, 0, 0, 0, 0, 0, 0, 0, 0, 0, 0], [0, 0, 0, 0, 0, 0, 0, 0, 0, 0, 0, 0, 0, 0, 0], [0, 0, 0, 0, 0, 0, 0, 0, 0, 0, 0, 0, 0, 0, 0], [0, 0, 0, 0, 0, 0, 0, 0, 0, 0, 0, 0, 0, 0, 0]]\n",
      "[[0, 0, 0, 0, 0, 0, 0, 0, 0, 0, 0, 0, 0, 0, 0], [0, 0, 0, 0, 0, 0, 0, 0, 0, 0, 0, 0, 0, 0, 0], [0, 0, 0, 0, 0, 0, 0, 0, 0, 0, 0, 0, 0, 0, 0], [0, 0, 0, 0, 0, 0, 0, 0, 0, 0, 0, 0, 0, 0, 0], [0, 0, 0, 0, 0, 1.0, 1.0, 1.0, 1.0, 1.0, 0, 0, 0, 0, 0], [0, 0, 0, 0, 0, 1.0, 1.0, 1.0, 1.0, 1.0, 0, 0, 0, 0, 0], [0, 0, 0, 0, 0, 1.0, 1.0, 1.0, 1.0, 1.0, 0, 0, 0, 0, 0], [0, 0, 0, 0, 0, 0, 0, 0, 0, 0, 0, 0, 0, 0, 0], [0, 0, 0, 0, 0, 0, 0, 0, 0, 0, 0, 0, 0, 0, 0], [0, 0, 0, 0, 0, 0, 0, 0, 0, 0, 0, 0, 0, 0, 0], [0, 0, 0, 0, 0, 0, 0, 0, 0, 0, 0, 0, 0, 0, 0]]\n"
     ]
    }
   ],
   "source": [
    "class Diffusion:\n",
    "\n",
    "    # trying with *args\n",
    "\n",
    "    def __init__(self, *args):\n",
    "        self.rows  = args[0]\n",
    "        self.cols = args[1]\n",
    "        self.bc_settings = args[2]\n",
    "        self.left_bc = args[3]\n",
    "        self.right_bc = args[4]\n",
    "        self.top_bc = args[5]\n",
    "        self.bottom_bc = args[6]\n",
    "        self.space = [[0 for i in range(self.cols)] for j in range(self.rows)]\n",
    "        \n",
    "\n",
    "    def set_cell(self, row_range, column_range, state):\n",
    "        # 'insert' a cell into space at a size and position dependent on the row_range and column_range\n",
    "        for row in range(row_range[0],row_range[1]+1):\n",
    "            for col in range(column_range[0],column_range[1]+1):\n",
    "                self.space[row][col] = float(state)\n",
    "        \n",
    "    def next_step(self, n_steps):\n",
    "        pass\n",
    "\n",
    "    def print_space(self):\n",
    "        print(self.space)\n",
    "\n",
    "space1 = Diffusion(11,15,[1, 1, 1, 1], 11*[1], 11*[1], 15*[0], 15*[0])\n",
    "space1.print_space()\n",
    "space1.set_cell([4,6],[5,9],1)\n",
    "space1.print_space()\n"
   ]
  },
  {
   "cell_type": "code",
   "execution_count": 23,
   "metadata": {},
   "outputs": [
    {
     "name": "stdout",
     "output_type": "stream",
     "text": [
      "[0.0, 0.0, 0.0]\n"
     ]
    }
   ],
   "source": [
    "numbers = [0.0, 0.0, 0.0]\n",
    "\n",
    "# convert the numbers to a list with two decimal places\n",
    "numbers = [round(number, 2) for number in numbers]\n",
    "\n",
    "# print the updated list\n",
    "print(numbers)\n"
   ]
  }
 ],
 "metadata": {
  "kernelspec": {
   "display_name": "Python 3.10.5 64-bit",
   "language": "python",
   "name": "python3"
  },
  "language_info": {
   "codemirror_mode": {
    "name": "ipython",
    "version": 3
   },
   "file_extension": ".py",
   "mimetype": "text/x-python",
   "name": "python",
   "nbconvert_exporter": "python",
   "pygments_lexer": "ipython3",
   "version": "3.10.5"
  },
  "orig_nbformat": 4,
  "vscode": {
   "interpreter": {
    "hash": "905661260ab1738593b154f1bc90957ec75ffddfdea27629b427a5e2454665be"
   }
  }
 },
 "nbformat": 4,
 "nbformat_minor": 2
}
